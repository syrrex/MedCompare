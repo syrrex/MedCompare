{
  "cells": [
    {
      "cell_type": "markdown",
      "metadata": {
        "id": "UfMJiPIJciiE"
      },
      "source": [
        "# MedCompare"
      ]
    },
    {
      "cell_type": "markdown",
      "metadata": {
        "id": "DNsSg8YKfMzp"
      },
      "source": [
        "## Requirements\n",
        "\n",
        "Attention: before running, switch to gpu execution"
      ]
    },
    {
      "cell_type": "code",
      "execution_count": 1,
      "metadata": {
        "colab": {
          "base_uri": "https://localhost:8080/"
        },
        "collapsed": true,
        "id": "RrF0ZPB1Exvv",
        "outputId": "ff9ebd84-0eaf-4344-9978-0d716a6ce5e7"
      },
      "outputs": [
        {
          "output_type": "stream",
          "name": "stdout",
          "text": [
            "Collecting datasets\n",
            "  Downloading datasets-3.2.0-py3-none-any.whl.metadata (20 kB)\n",
            "Requirement already satisfied: filelock in /usr/local/lib/python3.10/dist-packages (from datasets) (3.16.1)\n",
            "Requirement already satisfied: numpy>=1.17 in /usr/local/lib/python3.10/dist-packages (from datasets) (1.26.4)\n",
            "Requirement already satisfied: pyarrow>=15.0.0 in /usr/local/lib/python3.10/dist-packages (from datasets) (17.0.0)\n",
            "Collecting dill<0.3.9,>=0.3.0 (from datasets)\n",
            "  Downloading dill-0.3.8-py3-none-any.whl.metadata (10 kB)\n",
            "Requirement already satisfied: pandas in /usr/local/lib/python3.10/dist-packages (from datasets) (2.2.2)\n",
            "Requirement already satisfied: requests>=2.32.2 in /usr/local/lib/python3.10/dist-packages (from datasets) (2.32.3)\n",
            "Requirement already satisfied: tqdm>=4.66.3 in /usr/local/lib/python3.10/dist-packages (from datasets) (4.67.1)\n",
            "Collecting xxhash (from datasets)\n",
            "  Downloading xxhash-3.5.0-cp310-cp310-manylinux_2_17_x86_64.manylinux2014_x86_64.whl.metadata (12 kB)\n",
            "Collecting multiprocess<0.70.17 (from datasets)\n",
            "  Downloading multiprocess-0.70.16-py310-none-any.whl.metadata (7.2 kB)\n",
            "Collecting fsspec<=2024.9.0,>=2023.1.0 (from fsspec[http]<=2024.9.0,>=2023.1.0->datasets)\n",
            "  Downloading fsspec-2024.9.0-py3-none-any.whl.metadata (11 kB)\n",
            "Requirement already satisfied: aiohttp in /usr/local/lib/python3.10/dist-packages (from datasets) (3.11.11)\n",
            "Requirement already satisfied: huggingface-hub>=0.23.0 in /usr/local/lib/python3.10/dist-packages (from datasets) (0.27.1)\n",
            "Requirement already satisfied: packaging in /usr/local/lib/python3.10/dist-packages (from datasets) (24.2)\n",
            "Requirement already satisfied: pyyaml>=5.1 in /usr/local/lib/python3.10/dist-packages (from datasets) (6.0.2)\n",
            "Requirement already satisfied: aiohappyeyeballs>=2.3.0 in /usr/local/lib/python3.10/dist-packages (from aiohttp->datasets) (2.4.4)\n",
            "Requirement already satisfied: aiosignal>=1.1.2 in /usr/local/lib/python3.10/dist-packages (from aiohttp->datasets) (1.3.2)\n",
            "Requirement already satisfied: async-timeout<6.0,>=4.0 in /usr/local/lib/python3.10/dist-packages (from aiohttp->datasets) (4.0.3)\n",
            "Requirement already satisfied: attrs>=17.3.0 in /usr/local/lib/python3.10/dist-packages (from aiohttp->datasets) (24.3.0)\n",
            "Requirement already satisfied: frozenlist>=1.1.1 in /usr/local/lib/python3.10/dist-packages (from aiohttp->datasets) (1.5.0)\n",
            "Requirement already satisfied: multidict<7.0,>=4.5 in /usr/local/lib/python3.10/dist-packages (from aiohttp->datasets) (6.1.0)\n",
            "Requirement already satisfied: propcache>=0.2.0 in /usr/local/lib/python3.10/dist-packages (from aiohttp->datasets) (0.2.1)\n",
            "Requirement already satisfied: yarl<2.0,>=1.17.0 in /usr/local/lib/python3.10/dist-packages (from aiohttp->datasets) (1.18.3)\n",
            "Requirement already satisfied: typing-extensions>=3.7.4.3 in /usr/local/lib/python3.10/dist-packages (from huggingface-hub>=0.23.0->datasets) (4.12.2)\n",
            "Requirement already satisfied: charset-normalizer<4,>=2 in /usr/local/lib/python3.10/dist-packages (from requests>=2.32.2->datasets) (3.4.1)\n",
            "Requirement already satisfied: idna<4,>=2.5 in /usr/local/lib/python3.10/dist-packages (from requests>=2.32.2->datasets) (3.10)\n",
            "Requirement already satisfied: urllib3<3,>=1.21.1 in /usr/local/lib/python3.10/dist-packages (from requests>=2.32.2->datasets) (2.3.0)\n",
            "Requirement already satisfied: certifi>=2017.4.17 in /usr/local/lib/python3.10/dist-packages (from requests>=2.32.2->datasets) (2024.12.14)\n",
            "Requirement already satisfied: python-dateutil>=2.8.2 in /usr/local/lib/python3.10/dist-packages (from pandas->datasets) (2.8.2)\n",
            "Requirement already satisfied: pytz>=2020.1 in /usr/local/lib/python3.10/dist-packages (from pandas->datasets) (2024.2)\n",
            "Requirement already satisfied: tzdata>=2022.7 in /usr/local/lib/python3.10/dist-packages (from pandas->datasets) (2024.2)\n",
            "Requirement already satisfied: six>=1.5 in /usr/local/lib/python3.10/dist-packages (from python-dateutil>=2.8.2->pandas->datasets) (1.17.0)\n",
            "Downloading datasets-3.2.0-py3-none-any.whl (480 kB)\n",
            "\u001b[2K   \u001b[90m━━━━━━━━━━━━━━━━━━━━━━━━━━━━━━━━━━━━━━━━\u001b[0m \u001b[32m480.6/480.6 kB\u001b[0m \u001b[31m28.3 MB/s\u001b[0m eta \u001b[36m0:00:00\u001b[0m\n",
            "\u001b[?25hDownloading dill-0.3.8-py3-none-any.whl (116 kB)\n",
            "\u001b[2K   \u001b[90m━━━━━━━━━━━━━━━━━━━━━━━━━━━━━━━━━━━━━━━━\u001b[0m \u001b[32m116.3/116.3 kB\u001b[0m \u001b[31m10.6 MB/s\u001b[0m eta \u001b[36m0:00:00\u001b[0m\n",
            "\u001b[?25hDownloading fsspec-2024.9.0-py3-none-any.whl (179 kB)\n",
            "\u001b[2K   \u001b[90m━━━━━━━━━━━━━━━━━━━━━━━━━━━━━━━━━━━━━━━━\u001b[0m \u001b[32m179.3/179.3 kB\u001b[0m \u001b[31m15.5 MB/s\u001b[0m eta \u001b[36m0:00:00\u001b[0m\n",
            "\u001b[?25hDownloading multiprocess-0.70.16-py310-none-any.whl (134 kB)\n",
            "\u001b[2K   \u001b[90m━━━━━━━━━━━━━━━━━━━━━━━━━━━━━━━━━━━━━━━━\u001b[0m \u001b[32m134.8/134.8 kB\u001b[0m \u001b[31m12.4 MB/s\u001b[0m eta \u001b[36m0:00:00\u001b[0m\n",
            "\u001b[?25hDownloading xxhash-3.5.0-cp310-cp310-manylinux_2_17_x86_64.manylinux2014_x86_64.whl (194 kB)\n",
            "\u001b[2K   \u001b[90m━━━━━━━━━━━━━━━━━━━━━━━━━━━━━━━━━━━━━━━━\u001b[0m \u001b[32m194.1/194.1 kB\u001b[0m \u001b[31m12.1 MB/s\u001b[0m eta \u001b[36m0:00:00\u001b[0m\n",
            "\u001b[?25hInstalling collected packages: xxhash, fsspec, dill, multiprocess, datasets\n",
            "  Attempting uninstall: fsspec\n",
            "    Found existing installation: fsspec 2024.10.0\n",
            "    Uninstalling fsspec-2024.10.0:\n",
            "      Successfully uninstalled fsspec-2024.10.0\n",
            "\u001b[31mERROR: pip's dependency resolver does not currently take into account all the packages that are installed. This behaviour is the source of the following dependency conflicts.\n",
            "gcsfs 2024.10.0 requires fsspec==2024.10.0, but you have fsspec 2024.9.0 which is incompatible.\u001b[0m\u001b[31m\n",
            "\u001b[0mSuccessfully installed datasets-3.2.0 dill-0.3.8 fsspec-2024.9.0 multiprocess-0.70.16 xxhash-3.5.0\n",
            "Requirement already satisfied: transformers in /usr/local/lib/python3.10/dist-packages (4.47.1)\n",
            "Requirement already satisfied: filelock in /usr/local/lib/python3.10/dist-packages (from transformers) (3.16.1)\n",
            "Requirement already satisfied: huggingface-hub<1.0,>=0.24.0 in /usr/local/lib/python3.10/dist-packages (from transformers) (0.27.1)\n",
            "Requirement already satisfied: numpy>=1.17 in /usr/local/lib/python3.10/dist-packages (from transformers) (1.26.4)\n",
            "Requirement already satisfied: packaging>=20.0 in /usr/local/lib/python3.10/dist-packages (from transformers) (24.2)\n",
            "Requirement already satisfied: pyyaml>=5.1 in /usr/local/lib/python3.10/dist-packages (from transformers) (6.0.2)\n",
            "Requirement already satisfied: regex!=2019.12.17 in /usr/local/lib/python3.10/dist-packages (from transformers) (2024.11.6)\n",
            "Requirement already satisfied: requests in /usr/local/lib/python3.10/dist-packages (from transformers) (2.32.3)\n",
            "Requirement already satisfied: tokenizers<0.22,>=0.21 in /usr/local/lib/python3.10/dist-packages (from transformers) (0.21.0)\n",
            "Requirement already satisfied: safetensors>=0.4.1 in /usr/local/lib/python3.10/dist-packages (from transformers) (0.5.0)\n",
            "Requirement already satisfied: tqdm>=4.27 in /usr/local/lib/python3.10/dist-packages (from transformers) (4.67.1)\n",
            "Requirement already satisfied: fsspec>=2023.5.0 in /usr/local/lib/python3.10/dist-packages (from huggingface-hub<1.0,>=0.24.0->transformers) (2024.9.0)\n",
            "Requirement already satisfied: typing-extensions>=3.7.4.3 in /usr/local/lib/python3.10/dist-packages (from huggingface-hub<1.0,>=0.24.0->transformers) (4.12.2)\n",
            "Requirement already satisfied: charset-normalizer<4,>=2 in /usr/local/lib/python3.10/dist-packages (from requests->transformers) (3.4.1)\n",
            "Requirement already satisfied: idna<4,>=2.5 in /usr/local/lib/python3.10/dist-packages (from requests->transformers) (3.10)\n",
            "Requirement already satisfied: urllib3<3,>=1.21.1 in /usr/local/lib/python3.10/dist-packages (from requests->transformers) (2.3.0)\n",
            "Requirement already satisfied: certifi>=2017.4.17 in /usr/local/lib/python3.10/dist-packages (from requests->transformers) (2024.12.14)\n",
            "Requirement already satisfied: huggingface_hub in /usr/local/lib/python3.10/dist-packages (0.27.1)\n",
            "Requirement already satisfied: filelock in /usr/local/lib/python3.10/dist-packages (from huggingface_hub) (3.16.1)\n",
            "Requirement already satisfied: fsspec>=2023.5.0 in /usr/local/lib/python3.10/dist-packages (from huggingface_hub) (2024.9.0)\n",
            "Requirement already satisfied: packaging>=20.9 in /usr/local/lib/python3.10/dist-packages (from huggingface_hub) (24.2)\n",
            "Requirement already satisfied: pyyaml>=5.1 in /usr/local/lib/python3.10/dist-packages (from huggingface_hub) (6.0.2)\n",
            "Requirement already satisfied: requests in /usr/local/lib/python3.10/dist-packages (from huggingface_hub) (2.32.3)\n",
            "Requirement already satisfied: tqdm>=4.42.1 in /usr/local/lib/python3.10/dist-packages (from huggingface_hub) (4.67.1)\n",
            "Requirement already satisfied: typing-extensions>=3.7.4.3 in /usr/local/lib/python3.10/dist-packages (from huggingface_hub) (4.12.2)\n",
            "Requirement already satisfied: charset-normalizer<4,>=2 in /usr/local/lib/python3.10/dist-packages (from requests->huggingface_hub) (3.4.1)\n",
            "Requirement already satisfied: idna<4,>=2.5 in /usr/local/lib/python3.10/dist-packages (from requests->huggingface_hub) (3.10)\n",
            "Requirement already satisfied: urllib3<3,>=1.21.1 in /usr/local/lib/python3.10/dist-packages (from requests->huggingface_hub) (2.3.0)\n",
            "Requirement already satisfied: certifi>=2017.4.17 in /usr/local/lib/python3.10/dist-packages (from requests->huggingface_hub) (2024.12.14)\n",
            "Requirement already satisfied: tqdm in /usr/local/lib/python3.10/dist-packages (4.67.1)\n"
          ]
        }
      ],
      "source": [
        "!pip install datasets\n",
        "!pip install transformers\n",
        "!pip install huggingface_hub\n",
        "!pip install tqdm\n"
      ]
    },
    {
      "cell_type": "code",
      "execution_count": 2,
      "metadata": {
        "id": "UIkulk82e5Bl"
      },
      "outputs": [],
      "source": [
        "from huggingface_hub import notebook_login"
      ]
    },
    {
      "cell_type": "code",
      "execution_count": 3,
      "metadata": {
        "colab": {
          "base_uri": "https://localhost:8080/",
          "height": 17,
          "referenced_widgets": [
            "7e90c5d9a4fa41dfbf9bde4103fc89f6",
            "72f07ead941b4a3ab269a127c19b18b0",
            "6a9a85f82bbb4194918c971ff22243a7",
            "58a2546aabb54b299e7e22dc3652dca6",
            "84e8920be0fa4b5b8288720461d27ce2",
            "e9389f4306024c2cab385db84db11b0c",
            "08bea945803b42408accfb405d2e89a7",
            "8d454ad8a3ea422193eaabaaf46a79a4",
            "8dcfafefb630408495fd1db8806ee268",
            "6f9d627018f446ad893c38477c1fdfa3",
            "f08f576ac35f4e8d9120adcb3f7f898c",
            "de7581edd85b4611ae722e6600eecb55",
            "2ca3a680652f401aa7e14a19c28829e0",
            "947fdadf476243d1a51197bd5e1b3c46",
            "b7f2d5cea9df47b790ba67c0ee5b2e0f",
            "0b5adbe6509b45679d97887fb1983bed",
            "c027994dfb134087a34eab2e4cbc8623",
            "a7dabdde9583483d8cf0a51be17c586b",
            "71fbc7965b49456d83abf0188ef82fcb",
            "06d1bb26a09f42ae88d8db0508318dd3"
          ]
        },
        "id": "WrW1gbjUfINm",
        "outputId": "e17005cf-a596-48b2-eaae-f4dbc75be5be"
      },
      "outputs": [
        {
          "output_type": "display_data",
          "data": {
            "text/plain": [
              "VBox(children=(HTML(value='<center> <img\\nsrc=https://huggingface.co/front/assets/huggingface_logo-noborder.sv…"
            ],
            "application/vnd.jupyter.widget-view+json": {
              "version_major": 2,
              "version_minor": 0,
              "model_id": "7e90c5d9a4fa41dfbf9bde4103fc89f6"
            }
          },
          "metadata": {}
        }
      ],
      "source": [
        "notebook_login()"
      ]
    },
    {
      "cell_type": "markdown",
      "metadata": {
        "id": "CMQauq56dFPs"
      },
      "source": [
        "## 1. Data Processing\n"
      ]
    },
    {
      "cell_type": "code",
      "execution_count": 28,
      "metadata": {
        "id": "KEvcPyde7dpU"
      },
      "outputs": [],
      "source": [
        "import re\n",
        "import json\n",
        "import requests\n",
        "import numpy as np\n",
        "from transformers import AutoTokenizer, pipeline, AutoModel, pipeline\n",
        "import torch\n",
        "from datasets import load_dataset\n",
        "from tqdm import tqdm\n",
        "from sklearn.feature_extraction.text import TfidfVectorizer\n"
      ]
    },
    {
      "cell_type": "markdown",
      "metadata": {
        "id": "EQW_T8HM70Ag"
      },
      "source": [
        "Load Data"
      ]
    },
    {
      "cell_type": "code",
      "execution_count": 29,
      "metadata": {
        "id": "D5yMjJEq7q1f"
      },
      "outputs": [],
      "source": [
        "dataset = load_dataset(\"MattBastar/Medicine_Details\")\n",
        "data = dataset['train']\n",
        "tokenizer = AutoTokenizer.from_pretrained(\"emilyalsentzer/Bio_ClinicalBERT\")\n",
        "model = AutoModel.from_pretrained(\"emilyalsentzer/Bio_ClinicalBERT\")\n",
        "vectorizer = TfidfVectorizer(max_features=1000, stop_words=None)\n"
      ]
    },
    {
      "cell_type": "markdown",
      "metadata": {
        "id": "TacPl2j78BYZ"
      },
      "source": [
        "We get the ontology mapping via open source platform BioPortal bioontology. For this u need a file (api-key.txt) that contains an api-key for BioPortal. For this create an account5 at https://bioportal.bioontology.org/ and get your own key."
      ]
    },
    {
      "cell_type": "code",
      "execution_count": 30,
      "metadata": {
        "id": "awP04anTLUfN"
      },
      "outputs": [],
      "source": [
        "# Function to clean text\n",
        "\n",
        "# def clean_text(text):\n",
        "#     text = re.sub(r\"[^a-zA-Z0-9\\s]\", \"\", text)  # Remove special characters\n",
        "#     text = re.sub(r\"\\b\\d+\\b\", \"\", text)  # Remove standalone numbers\n",
        "#     text = re.sub(r\"\\s+\", \" \", text).strip()  # Remove extra spaces\n",
        "#     return text\n",
        "\n",
        "def clean_text(text):\n",
        "    # Step 1: Remove special characters except for alphanumeric and spaces\n",
        "    text = text.lower()\n",
        "    text = re.sub(r\"[^a-zA-Z\\s]\", \"\", text)  # Keep only letters and spaces\n",
        "\n",
        "    # Step 2: Remove standalone numbers\n",
        "    text = re.sub(r\"\\b\\d+\\b\", \"\", text)\n",
        "\n",
        "    # Step 3: Remove specific unwanted terms\n",
        "    unwanted_terms = [\"mg\", \"treatment\", \"Treatment\", \"MG\", \"mg\", \"ML\", \"ml\", \"of\", \"mgml\"]  # Add other terms to this list as needed\n",
        "    for term in unwanted_terms:\n",
        "        text = re.sub(rf\"\\b{term}\\b\", \"\", text, flags=re.IGNORECASE)\n",
        "\n",
        "    # Step 4: Remove extra spaces\n",
        "    text = re.sub(r\"\\s+\", \" \", text).strip()\n",
        "\n",
        "    return text\n",
        "\n"
      ]
    },
    {
      "cell_type": "code",
      "execution_count": 31,
      "metadata": {
        "id": "3q0ReevGGO56"
      },
      "outputs": [],
      "source": [
        "# #BASE_URL = \"http://data.bioontology.org\"\n",
        "# #file = open(\"api-key.txt\", \"r\")\n",
        "# API_KEY = file.read().strip()\n",
        "# #file.close()\n",
        "\n",
        "# headers = {\n",
        "#     \"Authorization\": f\"apikey token={API_KEY}\"\n",
        "# }\n",
        "\n",
        "# Function to look up ontology mappings from BioPortal API\n",
        "\n",
        "# def get_bioportal_mapping(term):\n",
        "\n",
        "#     params = {\n",
        "#         \"q\": term,\n",
        "#         \"require_exact_match\": \"false\" # false or true  deoending on exact matching\n",
        "#     }\n",
        "#     response = requests.get(f\"{BASE_URL}/search\", headers=headers, params=params)\n",
        "\n",
        "#     if response.status_code != 200:\n",
        "#         return {term: \"unknown\"}  # Default to \"unknown\" if the API call fails\n",
        "\n",
        "#     data = response.json()\n",
        "\n",
        "#     # Filter relevant mappings based on ontology prefixes else words without medical context get mapped as well\n",
        "#     relevant_prefixes = [\n",
        "#         \"http://purl.bioontology.org/ontology\",  # BioPortal's main prefix\n",
        "#         \"http://www.co-ode.org/ontologies/galen\",  # GALEN ontology\n",
        "#         \"http://ncicb.nci.nih.gov\"  # NCI Thesaurus\n",
        "#     ]\n",
        "\n",
        "#     for result in data.get(\"collection\", []):\n",
        "#         label = result.get(\"prefLabel\")\n",
        "#         ontology_id = result.get(\"@id\")\n",
        "\n",
        "#         if label and ontology_id and any(ontology_id.startswith(prefix) for prefix in relevant_prefixes):\n",
        "#             return {label.lower(): ontology_id}\n",
        "\n",
        "#     # Default\n",
        "#     return {term: \"unknown\"}"
      ]
    },
    {
      "cell_type": "markdown",
      "metadata": {
        "id": "5NJHr2VcBJgN"
      },
      "source": [
        "### Processing User Input\n"
      ]
    },
    {
      "cell_type": "code",
      "execution_count": 32,
      "metadata": {
        "colab": {
          "base_uri": "https://localhost:8080/"
        },
        "id": "ZBdGcnFni46x",
        "outputId": "4ee8443a-71fa-478f-fb60-da81f74040ce"
      },
      "outputs": [
        {
          "output_type": "stream",
          "name": "stderr",
          "text": [
            "Device set to use cuda:0\n"
          ]
        }
      ],
      "source": [
        "pipe = pipeline(\"token-classification\", model=\"Clinical-AI-Apollo/Medical-NER\", aggregation_strategy=\"simple\")\n",
        "\n",
        "def preprocess_user_input_with_ner(user_input):\n",
        "    device = torch.device(\"cuda\" if torch.cuda.is_available() else \"cpu\")\n",
        "    model.to(device)\n",
        "\n",
        "    # Step 1: Use the NER pipeline to extract medical entities\n",
        "    ner_results = pipe(user_input)\n",
        "\n",
        "    # Step 2: Group all entities by their types\n",
        "    grouped_entities = {}\n",
        "    for entity in ner_results:\n",
        "        entity_group = entity[\"entity_group\"]\n",
        "        if entity_group not in grouped_entities:\n",
        "            grouped_entities[entity_group] = []\n",
        "        grouped_entities[entity_group].append(entity[\"word\"])\n",
        "\n",
        "    # Step 3: Collect all identified words\n",
        "    all_words = []\n",
        "    for group, words in grouped_entities.items():\n",
        "        all_words.extend(words)\n",
        "\n",
        "    # Step 4: Combine all words into a single string\n",
        "    combined_text = \" \".join(all_words)\n",
        "    print(f\"Combined Text: {combined_text}\")\n",
        "\n",
        "    # Step 5: Generate a single embedding for the combined text\n",
        "    inputs = tokenizer(combined_text, padding=True, truncation=True, return_tensors=\"pt\").to(device)\n",
        "    with torch.no_grad():\n",
        "        outputs = model(**inputs)\n",
        "        combined_embedding = outputs.last_hidden_state[:, 0, :].squeeze().cpu().numpy()  # CLS token embedding\n",
        "\n",
        "    # Step 6: Return results\n",
        "    return {\n",
        "        \"cleaned_input\": user_input,\n",
        "        \"ner_results\": ner_results,\n",
        "        \"grouped_entities\": grouped_entities,\n",
        "        \"all_words\": all_words,\n",
        "        \"combined_text\": combined_text,\n",
        "        \"combined_embedding\": combined_embedding  # Single combined embedding\n",
        "    }\n",
        "\n",
        "def preprocess_user_input_with_ner_tfidf(user_input):\n",
        "    # Step 1: Use the NER pipeline to extract medical entities\n",
        "    ner_results = pipe(user_input)\n",
        "\n",
        "    # Step 2: Group all entities by their types\n",
        "    grouped_entities = {}\n",
        "    for entity in ner_results:\n",
        "        entity_group = entity[\"entity_group\"]\n",
        "        if entity_group not in grouped_entities:\n",
        "            grouped_entities[entity_group] = []\n",
        "        grouped_entities[entity_group].append(entity[\"word\"])\n",
        "\n",
        "    # Step 3: Collect all identified words\n",
        "    all_words = []\n",
        "    for group, words in grouped_entities.items():\n",
        "        all_words.extend(words)\n",
        "\n",
        "    # Step 4: Combine all words into a single string\n",
        "    combined_text = \" \".join(all_words)\n",
        "    print(f\"Combined Text: {combined_text}\")\n",
        "\n",
        "    tfidf_embeddings = vectorizer.transform([combined_text])\n",
        "\n",
        "    print(tfidf_embeddings.shape)\n",
        "    # Step 6: Return results\n",
        "    return {\n",
        "        \"cleaned_input\": user_input,\n",
        "        \"ner_results\": ner_results,\n",
        "        \"grouped_entities\": grouped_entities,\n",
        "        \"all_words\": all_words,\n",
        "        \"combined_text\": combined_text,\n",
        "        \"combined_embedding\": tfidf_embeddings  # Feature names for interpretation\n",
        "    }\n"
      ]
    },
    {
      "cell_type": "markdown",
      "metadata": {
        "id": "5vxVS53glSo1"
      },
      "source": []
    },
    {
      "cell_type": "markdown",
      "source": [
        "###Preprocessing for User Input aswell as Dataset"
      ],
      "metadata": {
        "id": "MrF0a6l3uKWi"
      }
    },
    {
      "cell_type": "code",
      "execution_count": 33,
      "metadata": {
        "id": "UzTzfFWgQSGM"
      },
      "outputs": [],
      "source": [
        "def preprocess_with_ner(text_input):\n",
        "    ner_results = pipe(text_input)\n",
        "    all_words = [entity[\"word\"] for entity in ner_results]\n",
        "    combined_text = \" \".join(all_words)\n",
        "    return combined_text"
      ]
    },
    {
      "cell_type": "code",
      "execution_count": 34,
      "metadata": {
        "colab": {
          "base_uri": "https://localhost:8080/"
        },
        "collapsed": true,
        "id": "OrSEJOcpQvt6",
        "outputId": "43f6d225-9245-4143-cf74-71239a484924"
      },
      "outputs": [
        {
          "output_type": "stream",
          "name": "stderr",
          "text": [
            "Processing records:   0%|          | 0/11825 [00:00<?, ?it/s]Asking to truncate to max_length but no maximum length is provided and the model has no predefined maximum length. Default to no truncation.\n",
            "Processing records: 100%|██████████| 11825/11825 [04:54<00:00, 40.18it/s]\n"
          ]
        }
      ],
      "source": [
        "def combine_text(record):\n",
        "    composition = clean_text(record['Composition'])\n",
        "    uses = clean_text(record['Uses'])\n",
        "    return f\"{composition}{uses}\"\n",
        "\n",
        "\n",
        "processed_texts = [preprocess_with_ner(combine_text(record)) for record in tqdm(data, desc=\"Processing records\")]\n",
        "\n"
      ]
    },
    {
      "cell_type": "code",
      "execution_count": 35,
      "metadata": {
        "id": "QtT6nk5KmHkf",
        "colab": {
          "base_uri": "https://localhost:8080/",
          "height": 34
        },
        "outputId": "88a00217-5f03-4b46-8835-50295847072b"
      },
      "outputs": [
        {
          "output_type": "stream",
          "name": "stdout",
          "text": [
            "Processed texts saved to processed_texts.csv\n"
          ]
        },
        {
          "output_type": "display_data",
          "data": {
            "text/plain": [
              "<IPython.core.display.Javascript object>"
            ],
            "application/javascript": [
              "\n",
              "    async function download(id, filename, size) {\n",
              "      if (!google.colab.kernel.accessAllowed) {\n",
              "        return;\n",
              "      }\n",
              "      const div = document.createElement('div');\n",
              "      const label = document.createElement('label');\n",
              "      label.textContent = `Downloading \"${filename}\": `;\n",
              "      div.appendChild(label);\n",
              "      const progress = document.createElement('progress');\n",
              "      progress.max = size;\n",
              "      div.appendChild(progress);\n",
              "      document.body.appendChild(div);\n",
              "\n",
              "      const buffers = [];\n",
              "      let downloaded = 0;\n",
              "\n",
              "      const channel = await google.colab.kernel.comms.open(id);\n",
              "      // Send a message to notify the kernel that we're ready.\n",
              "      channel.send({})\n",
              "\n",
              "      for await (const message of channel.messages) {\n",
              "        // Send a message to notify the kernel that we're ready.\n",
              "        channel.send({})\n",
              "        if (message.buffers) {\n",
              "          for (const buffer of message.buffers) {\n",
              "            buffers.push(buffer);\n",
              "            downloaded += buffer.byteLength;\n",
              "            progress.value = downloaded;\n",
              "          }\n",
              "        }\n",
              "      }\n",
              "      const blob = new Blob(buffers, {type: 'application/binary'});\n",
              "      const a = document.createElement('a');\n",
              "      a.href = window.URL.createObjectURL(blob);\n",
              "      a.download = filename;\n",
              "      div.appendChild(a);\n",
              "      a.click();\n",
              "      div.remove();\n",
              "    }\n",
              "  "
            ]
          },
          "metadata": {}
        },
        {
          "output_type": "display_data",
          "data": {
            "text/plain": [
              "<IPython.core.display.Javascript object>"
            ],
            "application/javascript": [
              "download(\"download_cdb66d3e-107a-4a08-a47e-7f1e4b368307\", \"processed_texts.csv\", 622063)"
            ]
          },
          "metadata": {}
        }
      ],
      "source": [
        "import csv\n",
        "\n",
        "output_file = \"processed_texts.csv\"\n",
        "\n",
        "# Save to a CSV file\n",
        "with open(output_file, \"w\", encoding=\"utf-8\", newline=\"\") as csvfile:\n",
        "    writer = csv.writer(csvfile)\n",
        "    writer.writerow([\"Processed Text\"])  # Header row\n",
        "    for text in processed_texts:\n",
        "        writer.writerow([text])\n",
        "\n",
        "print(f\"Processed texts saved to {output_file}\")\n",
        "from google.colab import files\n",
        "\n",
        "# Download the CSV file\n",
        "files.download(output_file)\n"
      ]
    },
    {
      "cell_type": "markdown",
      "source": [
        "### Generate and store Dataset embeddings with Clinical-BERT"
      ],
      "metadata": {
        "id": "knYi-Hs5rX-c"
      }
    },
    {
      "cell_type": "code",
      "execution_count": 36,
      "metadata": {
        "id": "EO0ruTa7jv7P",
        "colab": {
          "base_uri": "https://localhost:8080/"
        },
        "outputId": "c6662fb8-85e1-41cf-c4cd-26ce5a8d2c18"
      },
      "outputs": [
        {
          "output_type": "stream",
          "name": "stdout",
          "text": [
            "Executing with Cuda GPU: True\n"
          ]
        },
        {
          "output_type": "stream",
          "name": "stderr",
          "text": [
            "Generating embeddings:   0%|          | 0/11825 [00:00<?, ?it/s]Asking to truncate to max_length but no maximum length is provided and the model has no predefined maximum length. Default to no truncation.\n",
            "Generating embeddings: 100%|██████████| 11825/11825 [01:40<00:00, 117.81it/s]\n"
          ]
        }
      ],
      "source": [
        "def generate_embeddings(processed_text, model, tokenizer):\n",
        "  print(\"Executing with Cuda GPU: \" + str(torch.cuda.is_available()))\n",
        "  device = torch.device(\"cuda\" if torch.cuda.is_available() else \"cpu\")\n",
        "  model = model.to(device)\n",
        "  embeddings = []\n",
        "  for text in tqdm(processed_text, desc=\"Generating embeddings\"):\n",
        "      inputs = tokenizer(text, padding=True, truncation=True, return_tensors=\"pt\").to(device)\n",
        "      with torch.no_grad():\n",
        "          outputs = model(**inputs)\n",
        "      embedding = outputs.last_hidden_state[:, 0, :].squeeze().cpu().numpy()\n",
        "      embeddings.append(embedding)\n",
        "\n",
        "  # Convert embeddings to a NumPy array\n",
        "  entity_embedding = np.array(embeddings)\n",
        "  return entity_embedding\n",
        "\n",
        "\n",
        "data_embeddings_bert = generate_embeddings(processed_texts, model, tokenizer)\n"
      ]
    },
    {
      "cell_type": "code",
      "execution_count": 37,
      "metadata": {
        "id": "fLK2_Nh7x3xs",
        "colab": {
          "base_uri": "https://localhost:8080/"
        },
        "outputId": "9b3c72c4-1625-4953-b992-c6c1ea26ceb2"
      },
      "outputs": [
        {
          "output_type": "stream",
          "name": "stdout",
          "text": [
            "BERT Embeddings saved to data_embeddings_bert.npy\n"
          ]
        }
      ],
      "source": [
        "embeddings_file = \"data_embeddings_bert.npy\"\n",
        "np.save(embeddings_file, data_embeddings_bert)\n",
        "\n",
        "print(f\"BERT Embeddings saved to {embeddings_file}\")\n"
      ]
    },
    {
      "cell_type": "markdown",
      "source": [
        "### Generate and store Dataset embeddings with TFIDF"
      ],
      "metadata": {
        "id": "TA-sCA2aqUCx"
      }
    },
    {
      "cell_type": "code",
      "source": [
        "def generate_tfidf_embeddings(processed_texts):\n",
        "    processed_texts = [text for text in processed_texts if text.strip()]\n",
        "\n",
        "    tfidf_embeddings = vectorizer.fit_transform(processed_texts)\n",
        "\n",
        "    return tfidf_embeddings\n",
        "\n",
        "\n",
        "data_embeddings_tfidf = generate_tfidf_embeddings(processed_texts)\n"
      ],
      "metadata": {
        "id": "cPJK3IygqRaS"
      },
      "execution_count": 38,
      "outputs": []
    },
    {
      "cell_type": "code",
      "source": [
        "embeddings_file = \"data_embeddings_tfidf.npy\"\n",
        "np.save(embeddings_file, data_embeddings_tfidf)\n",
        "\n",
        "print(f\"TFIDF Embeddings saved to {embeddings_file}\")\n"
      ],
      "metadata": {
        "id": "0uW8RAeDssym",
        "colab": {
          "base_uri": "https://localhost:8080/"
        },
        "outputId": "eb34dd55-1b0b-4612-82ba-e8c75180311b"
      },
      "execution_count": 39,
      "outputs": [
        {
          "output_type": "stream",
          "name": "stdout",
          "text": [
            "TFIDF Embeddings saved to data_embeddings_tfidf.npy\n"
          ]
        }
      ]
    },
    {
      "cell_type": "markdown",
      "metadata": {
        "id": "kCNJeO7cddMH"
      },
      "source": [
        "## 2. Similarity Ranking"
      ]
    },
    {
      "cell_type": "markdown",
      "source": [
        "Prepare Data Embeddings and Query Embeddings for Ranking\n",
        "\n",
        "TODO: maybe add normalization before embedding"
      ],
      "metadata": {
        "id": "V2reNuJvAncd"
      }
    },
    {
      "cell_type": "code",
      "source": [
        "from sklearn.metrics.pairwise import cosine_similarity"
      ],
      "metadata": {
        "id": "eP62swTlFhPc"
      },
      "execution_count": 40,
      "outputs": []
    },
    {
      "cell_type": "markdown",
      "source": [
        "function for user query preprocessing"
      ],
      "metadata": {
        "id": "HmQzQSZSfWMV"
      }
    },
    {
      "cell_type": "code",
      "source": [
        "def prepare_query_for_similarity_ranking(query, embedding_type = 'bert'):\n",
        "\n",
        "  query = clean_text(query)\n",
        "\n",
        "  if(embedding_type == 'tfidf'):\n",
        "    preprocessed_query = preprocess_user_input_with_ner_tfidf(query)\n",
        "  else:\n",
        "    preprocessed_query = preprocess_user_input_with_ner(query)\n",
        "\n",
        "  print(\"NER Results:\", preprocessed_query[\"ner_results\"])\n",
        "  print(f\"NER Query for Embedding: {preprocessed_query['combined_text']}\")\n",
        "\n",
        "  query_embedding = preprocessed_query[\"combined_embedding\"]\n",
        "\n",
        "  # print(group_embedding.shape)\n",
        "  # print(embedding_type)\n",
        "  if(embedding_type == 'bert'):\n",
        "    query_embedding = np.array(query_embedding).reshape(1, -1)\n",
        "\n",
        "  return query_embedding\n"
      ],
      "metadata": {
        "id": "1cw_gkYlA6WE"
      },
      "execution_count": 41,
      "outputs": []
    },
    {
      "cell_type": "markdown",
      "source": [
        "function for ranking best Matches and Eliminate Duplicates, because necessary only Substances and Dataset provides multiple solutions with different dosages\n"
      ],
      "metadata": {
        "id": "5EQjuWnHfLsI"
      }
    },
    {
      "cell_type": "code",
      "source": [
        "def similarity_ranking(similarities, data, top_k = 5):\n",
        "\n",
        "  medicine_names = [record['Medicine Name'] for record in data]\n",
        "  compositions = [record['Composition'] for record in data]\n",
        "  uses= [record['Uses'] for record in data]\n",
        "  side_effects = [record['Side_effects'] for record in data]\n",
        "  ratings = [record['Average Review %'] for record in data]\n",
        "\n",
        "\n",
        "  ranked_indices = np.argsort(similarities[0])[::-1]  # Sort indices by similarity in descending order\n",
        "\n",
        "  unique_compositions = set()\n",
        "  final_results = []  # To store the final unique top-k results\n",
        "\n",
        "  for idx in ranked_indices:\n",
        "      medicine_name = medicine_names[idx]\n",
        "      composition = compositions[idx]\n",
        "      use = uses[idx]\n",
        "      side_effect = side_effects[idx]\n",
        "      average_review = ratings[idx]\n",
        "\n",
        "      # Check for uniqueness based on composition\n",
        "      if clean_text(composition) not in unique_compositions:\n",
        "          unique_compositions.add(clean_text(composition)) # Mark composition as seen\n",
        "          final_results.append({\n",
        "              \"Medicine\": medicine_name,\n",
        "              \"Composition\": composition,\n",
        "              \"Use\": use,\n",
        "              \"Side Effects\": side_effect,\n",
        "              \"Similarity\": similarities[0][idx]\n",
        "          })\n",
        "\n",
        "      if len(final_results) == top_k:\n",
        "          break\n",
        "  return final_results"
      ],
      "metadata": {
        "id": "oJn1FDG4eQWe"
      },
      "execution_count": 42,
      "outputs": []
    },
    {
      "cell_type": "markdown",
      "source": [
        "function for printing top results"
      ],
      "metadata": {
        "id": "h3_0ndktel-n"
      }
    },
    {
      "cell_type": "code",
      "source": [
        "def print_results(similarity_results):\n",
        "  print(\"\\nTop matching medications with side effects:\")\n",
        "  for result in similarity_results:\n",
        "      print(f\"Composition: {result['Composition']}, Use: {result['Use']}, \\nSide Effects: {result['Side Effects']},\\n Similarity: {result['Similarity']:.4f}\\n\")\n",
        "\n",
        "  print(\"\\n\" + \"=\" * 50 + \"\\n\")"
      ],
      "metadata": {
        "id": "EciB9CGzeZ9y"
      },
      "execution_count": 43,
      "outputs": []
    },
    {
      "cell_type": "markdown",
      "source": [
        "###Calculating Cosine Similarities with Sklearn\n",
        "and combine all together"
      ],
      "metadata": {
        "id": "K7msraRHAa8K"
      }
    },
    {
      "cell_type": "code",
      "source": [
        "def similarity(query, data_embedding, ground_data, embedding_type = 'bert'):\n",
        "    query_embedding = prepare_query_for_similarity_ranking(query, embedding_type)\n",
        "    #cosine similarity sklearn\n",
        "    similarities = cosine_similarity(query_embedding, data_embedding)\n",
        "    similarity_results = similarity_ranking(similarities, ground_data)\n",
        "    print('')\n",
        "    print(embedding_type)\n",
        "    print_results(similarity_results)\n"
      ],
      "metadata": {
        "id": "69XzyWpBAPfi"
      },
      "execution_count": 53,
      "outputs": []
    },
    {
      "cell_type": "markdown",
      "source": [
        "###Testing of Similarity Ranking"
      ],
      "metadata": {
        "id": "Vv-P5S3RChc_"
      }
    },
    {
      "cell_type": "code",
      "source": [
        "query1 = \"The patient is allergic to Mefenamin Acid another pain relief medication.\"\n",
        "similarity(query1, data_embeddings_tfidf, data, embedding_type = 'tfidf')\n",
        "similarity(query1, data_embeddings_bert, data)\n",
        "print(\"-------------------------------------------------------------------------\")\n",
        "\n",
        "\n",
        "query2 = \"Antibiotics.\"\n",
        "similarity(query2, data_embeddings_tfidf, data, embedding_type = 'tfidf')\n",
        "similarity(query2, data_embeddings_bert, data)\n",
        "print(\"-------------------------------------------------------------------------\")\n",
        "\n",
        "\n",
        "query3 = \"What are the available medications for a skin inflammation\"\n",
        "similarity(query3, data_embeddings_tfidf, data, embedding_type = 'tfidf')\n",
        "similarity(query3, data_embeddings_bert, data)\n",
        "print(\"-------------------------------------------------------------------------\")\n",
        "\n",
        "\n",
        "query4 = \"I have acute migraine need a medication with minimal side effects.\"\n",
        "similarity(query4, data_embeddings_tfidf, data, embedding_type = 'tfidf')\n",
        "similarity(query4, data_embeddings_bert, data)\n",
        "print(\"-------------------------------------------------------------------------\")\n",
        "\n",
        "\n",
        "query5 = \"What medications are recommended for managing diabetes mellitus\"\n",
        "similarity(query5, data_embeddings_tfidf, data, embedding_type = 'tfidf')\n",
        "similarity(query5, data_embeddings_bert, data)\n",
        "print(\"-------------------------------------------------------------------------\")\n"
      ],
      "metadata": {
        "id": "wuGs31QsE77l",
        "colab": {
          "base_uri": "https://localhost:8080/"
        },
        "outputId": "99c8a241-da73-4ab4-b7fc-ac821d98b08c"
      },
      "execution_count": 72,
      "outputs": [
        {
          "output_type": "stream",
          "name": "stdout",
          "text": [
            "Combined Text: me fenamin acid pain relief\n",
            "(1, 1000)\n",
            "NER Results: [{'entity_group': 'MEDICATION', 'score': 0.2702273, 'word': 'me', 'start': 26, 'end': 29}, {'entity_group': 'DETAILED_DESCRIPTION', 'score': 0.36725488, 'word': 'fenamin acid', 'start': 29, 'end': 41}, {'entity_group': 'DIAGNOSTIC_PROCEDURE', 'score': 0.11181343, 'word': 'pain', 'start': 49, 'end': 54}, {'entity_group': 'DISEASE_DISORDER', 'score': 0.18120886, 'word': 'relief', 'start': 54, 'end': 61}]\n",
            "NER Query for Embedding: me fenamin acid pain relief\n",
            "\n",
            "tfidf\n",
            "\n",
            "Top matching medications with side effects:\n",
            "Medicine: Hyocimax MF  Tablet,\n",
            "Composition: Hyoscine butylbromide (10mg) + Mefenamic Acid (250mg), Use: Treatment of Menstrual pain, \n",
            "Side Effects: Nausea Vomiting Dryness in mouth Heartburn,\n",
            " Similarity: 0.7996\n",
            "\n",
            "Medicine: Meflotas Tablet,\n",
            "Composition: Mefloquine (250mg), Use:  Malaria, \n",
            "Side Effects: Abdominal pain Abnormal dreams Anxiety Chills Depression Diarrhea Dizziness Fever Headache Atrial arrhythmias altered heart rate Insomnia difficulty in sleeping Itching Loss of appetite Muscle pain Nausea Rash Ringing in ear Vertigo Visual impairment Vomiting Fatigue,\n",
            " Similarity: 0.7173\n",
            "\n",
            "Medicine: Tavera M Tablet,\n",
            "Composition: Drotaverine (80mg) + Mefenamic Acid (250mg), Use: Treatment of Abdominal pain, \n",
            "Side Effects: Nausea Vomiting Diarrhea Dryness in mouth Heartburn Vertigo Insomnia difficulty in sleeping Hypotension low blood pressure Fast heart rate Sweating Constipation Increased liver enzymes Increased white blood cell count eosinophils Decreased white blood cell count lymphocytes Low blood platelets Purpura Agranulocytosis deficiency of granulocytes in the blood Breathlessness Ringing in ear Abdominal pain Flatulence Indigestion Stomach inflammation Confusion Depression,\n",
            " Similarity: 0.6541\n",
            "\n",
            "Medicine: Indocap Capsule,\n",
            "Composition: Indomethacin (25mg), Use:  Pain relief, \n",
            "Side Effects: Visual disturbance Vomiting Stomach pain epigastric pain Nausea Indigestion Dizziness Drowsiness Visual disorder,\n",
            " Similarity: 0.5880\n",
            "\n",
            "Medicine: Dolestin 250 Tablet,\n",
            "Composition: Univestin (250mg), Use:  Pain relief, \n",
            "Side Effects: Nausea Abdominal pain Indigestion,\n",
            " Similarity: 0.5880\n",
            "\n",
            "\n",
            "==================================================\n",
            "\n",
            "Combined Text: me fenamin acid pain relief\n",
            "NER Results: [{'entity_group': 'MEDICATION', 'score': 0.2702273, 'word': 'me', 'start': 26, 'end': 29}, {'entity_group': 'DETAILED_DESCRIPTION', 'score': 0.36725488, 'word': 'fenamin acid', 'start': 29, 'end': 41}, {'entity_group': 'DIAGNOSTIC_PROCEDURE', 'score': 0.11181343, 'word': 'pain', 'start': 49, 'end': 54}, {'entity_group': 'DISEASE_DISORDER', 'score': 0.18120886, 'word': 'relief', 'start': 54, 'end': 61}]\n",
            "NER Query for Embedding: me fenamin acid pain relief\n",
            "\n",
            "bert\n",
            "\n",
            "Top matching medications with side effects:\n",
            "Medicine: Indocap Capsule,\n",
            "Composition: Indomethacin (25mg), Use:  Pain relief, \n",
            "Side Effects: Visual disturbance Vomiting Stomach pain epigastric pain Nausea Indigestion Dizziness Drowsiness Visual disorder,\n",
            " Similarity: 0.9530\n",
            "\n",
            "Medicine: Toldin ER 600 Tablet,\n",
            "Composition: Etodolac (600mg), Use:  Pain relief, \n",
            "Side Effects: Visual disturbance Vomiting Stomach pain epigastric pain Nausea Indigestion Dizziness Drowsiness Visual disorder,\n",
            " Similarity: 0.9484\n",
            "\n",
            "Medicine: Ugesic Sublingual tablet,\n",
            "Composition: Piroxicam (20mg), Use:  Pain relief, \n",
            "Side Effects: Vomiting Stomach pain Nausea Headache Dizziness,\n",
            " Similarity: 0.9465\n",
            "\n",
            "Medicine: Pirox Gel 30gm for Skin Infections,\n",
            "Composition: Piroxicam (0.5% w/w), Use:  Pain relief, \n",
            "Side Effects: No common side effects seen Vomiting Stomach pain Nausea Headache Dizziness,\n",
            " Similarity: 0.9463\n",
            "\n",
            "Medicine: Ketanov DT 10mg Tablet,\n",
            "Composition: Ketorolac (10mg), Use:  Pain relief, \n",
            "Side Effects: Vomiting Stomach pain epigastric pain Nausea Indigestion Diarrhea Heartburn Loss of appetite,\n",
            " Similarity: 0.9451\n",
            "\n",
            "\n",
            "==================================================\n",
            "\n",
            "-------------------------------------------------------------------------\n",
            "Combined Text: antibiotics\n",
            "(1, 1000)\n",
            "NER Results: [{'entity_group': 'DETAILED_DESCRIPTION', 'score': 0.04926286, 'word': 'antibiotics', 'start': 0, 'end': 11}]\n",
            "NER Query for Embedding: antibiotics\n",
            "\n",
            "tfidf\n",
            "\n",
            "Top matching medications with side effects:\n",
            "Medicine: Avastin 400mg Injection,\n",
            "Composition: Bevacizumab (400mg), Use:  Cancer of colon and rectum Non-small cell lung cancer Kidney cancer Brain tumor Ovarian cancer Cervical cancer, \n",
            "Side Effects: Rectal bleeding Taste change Headache Nosebleeds Back pain Dry skin High blood pressure Protein in urine Inflammation of the nose,\n",
            " Similarity: 0.0000\n",
            "\n",
            "Medicine: Zedruff Shampoo,\n",
            "Composition: Ketoconazole (2% w/v) + Zinc pyrithione (1% w/v), Use: Treatment of Dandruff, \n",
            "Side Effects: Application site reactions burning irritation itching and redness,\n",
            " Similarity: 0.0000\n",
            "\n",
            "Medicine: Zestasil 100 Tablet,\n",
            "Composition: Sildenafil (100mg), Use: Treatment of Erectile dysfunction, \n",
            "Side Effects: Flushing sense of warmth in the face ears neck and trunk Headache Blurred vision Indigestion Muscle pain Upset stomach Rash Nasal congestion stuffy nose Dizziness Nausea,\n",
            " Similarity: 0.0000\n",
            "\n",
            "Medicine: Zipcoz Tablet,\n",
            "Composition: Chromium Picolinate (100mcg) + D-Chiro Inositol (13.8mg) + Myo-Inositol (550mg) + Vitamin D3 (200IU), Use:  Polycystic ovarian syndrome (PCOS), \n",
            "Side Effects: Rash Nausea Paresthesia tingling or pricking sensation Postural hypotension low blood pressure Dizziness Flushing sense of warmth in the face ears neck and trunk Generalized swelling Headache Vertigo Vomiting,\n",
            " Similarity: 0.0000\n",
            "\n",
            "Medicine: Zilarta-CT 40/6.25 Tablet,\n",
            "Composition: Azilsartan medoxomil (40mg) + Chlorthalidone (6.25mg), Use:  Hypertension (high blood pressure), \n",
            "Side Effects: Dizziness Tiredness Decreased potassium level in blood Decreased blood pressure Increased creatinine level in blood Increased uric acid level in blood,\n",
            " Similarity: 0.0000\n",
            "\n",
            "\n",
            "==================================================\n",
            "\n",
            "Combined Text: antibiotics\n",
            "NER Results: [{'entity_group': 'DETAILED_DESCRIPTION', 'score': 0.04926286, 'word': 'antibiotics', 'start': 0, 'end': 11}]\n",
            "NER Query for Embedding: antibiotics\n",
            "\n",
            "bert\n",
            "\n",
            "Top matching medications with side effects:\n",
            "Medicine: Zostum O 100mg Dry Syrup,\n",
            "Composition: Cefditoren (100mg), Use: Treatment of Bacterial infections, \n",
            "Side Effects: Nausea Indigestion Stomach pain Diarrhea Headache,\n",
            " Similarity: 0.8924\n",
            "\n",
            "Medicine: Distaclor 187mg Oral Suspension Strawberry,\n",
            "Composition: Cefaclor (187mg), Use:  Bacterial infections, \n",
            "Side Effects: Gastrointesinal symptoms Diarrhea Hypersensitivity Drug eruptions Increased white blood cell count eosinophils Genital itching Increased liver enzymes Vaginal inflammation,\n",
            " Similarity: 0.8914\n",
            "\n",
            "Medicine: Odoxil 500mg Tablet,\n",
            "Composition: Cefadroxil (500mg), Use: Treatment of Bacterial infections, \n",
            "Side Effects: Rash Vomiting Allergic reaction Stomach pain Nausea Diarrhea,\n",
            " Similarity: 0.8887\n",
            "\n",
            "Medicine: Monocef 2gm Injection,\n",
            "Composition: Ceftriaxone (2gm), Use: Treatment of Bacterial infections, \n",
            "Side Effects: Diarrhea Abnormal liver function tests Rash,\n",
            " Similarity: 0.8852\n",
            "\n",
            "Medicine: Sepomax 500 Tablet,\n",
            "Composition: Cefuroxime (500mg), Use: Treatment of Bacterial infections, \n",
            "Side Effects: Rash Vomiting Allergic reaction Increased liver enzymes Nausea Diarrhea,\n",
            " Similarity: 0.8851\n",
            "\n",
            "\n",
            "==================================================\n",
            "\n",
            "-------------------------------------------------------------------------\n",
            "Combined Text: skin inflammation\n",
            "(1, 1000)\n",
            "NER Results: [{'entity_group': 'DETAILED_DESCRIPTION', 'score': 0.14949402, 'word': 'skin', 'start': 40, 'end': 45}, {'entity_group': 'DISEASE_DISORDER', 'score': 0.16949716, 'word': 'inflammation', 'start': 45, 'end': 58}]\n",
            "NER Query for Embedding: skin inflammation\n",
            "\n",
            "tfidf\n",
            "\n",
            "Top matching medications with side effects:\n",
            "Medicine: Sentim-SF Toothpaste,\n",
            "Composition: Stannous fluoride (0.4%), Use: Treatment of HypersensitivityTreatment of Inflammation of gumsTreatment of Dental cavities, \n",
            "Side Effects: Taste change Gum Irritation,\n",
            " Similarity: 0.6618\n",
            "\n",
            "Medicine: Femcort 0.1% Cream,\n",
            "Composition: Mometasone (0.1%), Use: Treatment of Skin conditions with inflammation & itching, \n",
            "Side Effects: Stinging sensation Itching Hair follicle inflammation,\n",
            " Similarity: 0.5524\n",
            "\n",
            "Medicine: Adbrom Free Eye Drop,\n",
            "Composition: Bromfenac (0.9mg), Use:  Post-operative eye pain and inflammation, \n",
            "Side Effects: Blurred vision Increased sensitivity to light Change in color vision Decreased vision Eye pain Sore eye Teary eyes,\n",
            " Similarity: 0.5481\n",
            "\n",
            "Medicine: Atarax 10mg Tablet,\n",
            "Composition: Hydroxyzine (10mg), Use: Treatment of AnxietyTreatment of Skin conditions with inflammation & itching, \n",
            "Side Effects: Sedation Nausea Vomiting Upset stomach Constipation,\n",
            " Similarity: 0.5331\n",
            "\n",
            "Medicine: Tercin WHP Powder,\n",
            "Composition: Mupirocin (2%), Use: Treatment of Bacterial skin infections, \n",
            "Side Effects: Itching Burning sensation Stinging sensation Pain,\n",
            " Similarity: 0.4585\n",
            "\n",
            "\n",
            "==================================================\n",
            "\n",
            "Combined Text: skin inflammation\n",
            "NER Results: [{'entity_group': 'DETAILED_DESCRIPTION', 'score': 0.14949402, 'word': 'skin', 'start': 40, 'end': 45}, {'entity_group': 'DISEASE_DISORDER', 'score': 0.16949716, 'word': 'inflammation', 'start': 45, 'end': 58}]\n",
            "NER Query for Embedding: skin inflammation\n",
            "\n",
            "bert\n",
            "\n",
            "Top matching medications with side effects:\n",
            "Medicine: Hydrogen Peroxide Solution,\n",
            "Composition: Hydrogen Peroxide (NA), Use:  Wound infection, \n",
            "Side Effects: Skin peeling Itching Stinging sensation Erythema skin redness Edema swelling,\n",
            " Similarity: 0.9379\n",
            "\n",
            "Medicine: Alatro Tablet,\n",
            "Composition: Seratrodast (80mg), Use:  Asthma, \n",
            "Side Effects: Gastrointestinal disturbance Headache Palpitations Drowsiness Hepatitis viral infection of liver Hypersensitivity Increased liver enzymes,\n",
            " Similarity: 0.9351\n",
            "\n",
            "Medicine: Megaheal Spray,\n",
            "Composition: Silver Colloid (10ppm), Use: Prevention of Wound infection, \n",
            "Side Effects: Argyria skin turns blue or bluish grey,\n",
            " Similarity: 0.9346\n",
            "\n",
            "Medicine: Paknet Soap,\n",
            "Composition: Triclosan (0.5%), Use:  Skin infections, \n",
            "Side Effects: No common side effects seen,\n",
            " Similarity: 0.9322\n",
            "\n",
            "Medicine: Lopamide Tablet,\n",
            "Composition: Loperamide (2mg), Use:  Diarrhea, \n",
            "Side Effects: Constipation Nausea Headache Stomach pain,\n",
            " Similarity: 0.9315\n",
            "\n",
            "\n",
            "==================================================\n",
            "\n",
            "-------------------------------------------------------------------------\n",
            "Combined Text: acute migraine\n",
            "(1, 1000)\n",
            "NER Results: [{'entity_group': 'DETAILED_DESCRIPTION', 'score': 0.40668783, 'word': 'acute', 'start': 6, 'end': 12}, {'entity_group': 'DISEASE_DISORDER', 'score': 0.25738278, 'word': 'migraine', 'start': 12, 'end': 21}]\n",
            "NER Query for Embedding: acute migraine\n",
            "\n",
            "tfidf\n",
            "\n",
            "Top matching medications with side effects:\n",
            "Medicine: Zavedos 5mg Injection,\n",
            "Composition: Idarubicin (5mg), Use:  Blood cancer (Acute lymphocytic leukemia), \n",
            "Side Effects: Vomiting Nausea Infection Hair loss Fever Increased liver enzymes Peripheral neuropathy tingling and numbness of feet and hand Stomatitis Inflammation of the mouth Bleeding Myelosuppression Seizure,\n",
            " Similarity: 0.6446\n",
            "\n",
            "Medicine: Trebor 0.025% Cream,\n",
            "Composition: Tretinoin (0.025%), Use: Treatment of Acne Acute promyelocytic leukaemia, \n",
            "Side Effects: Erythema skin redness Skin irritation Dry skin Dry lips Pale red skin Increased sensitivity to light,\n",
            " Similarity: 0.4453\n",
            "\n",
            "Medicine: Tretinec A 0.05% Cream,\n",
            "Composition: Tretinoin (0.05% w/w), Use: Treatment of Acne Acute promyelocytic leukaemia, \n",
            "Side Effects: Erythema skin redness Skin irritation Dry skin Dry lips Pale red skin Increased sensitivity to light,\n",
            " Similarity: 0.3234\n",
            "\n",
            "Medicine: Grenil-F 10 Tablet,\n",
            "Composition: Flunarizine (10mg), Use: Prevention of Migraine, \n",
            "Side Effects: Sleepiness Weight gain Muscle pain Fatigue Constipation Nausea Insomnia difficulty in sleeping Runny nose Increased appetite Depression Stomach discomfort Breast pain,\n",
            " Similarity: 0.3201\n",
            "\n",
            "Medicine: Nicerbium Tablet,\n",
            "Composition: Nicergoline (30mg), Use:  Raynaud's diseaseTreatment and prevention of Migraine, \n",
            "Side Effects: Fatigue Nausea Vomiting Taste change Agitation Muscle pain Restlessness Hot flashes Sleep disturbance Dizziness,\n",
            " Similarity: 0.3184\n",
            "\n",
            "\n",
            "==================================================\n",
            "\n",
            "Combined Text: acute migraine\n",
            "NER Results: [{'entity_group': 'DETAILED_DESCRIPTION', 'score': 0.40668783, 'word': 'acute', 'start': 6, 'end': 12}, {'entity_group': 'DISEASE_DISORDER', 'score': 0.25738278, 'word': 'migraine', 'start': 12, 'end': 21}]\n",
            "NER Query for Embedding: acute migraine\n",
            "\n",
            "bert\n",
            "\n",
            "Top matching medications with side effects:\n",
            "Medicine: Zolmist Nasal Spray,\n",
            "Composition: Zolmitriptan (5mg), Use:  Acute migraine headache, \n",
            "Side Effects: Dizziness Dryness in mouth Nausea Taste change Drowsiness Peripheral neuropathy tingling and numbness of feet and hand,\n",
            " Similarity: 0.9395\n",
            "\n",
            "Medicine: Almotan 12.5 Tablet,\n",
            "Composition: Almotriptan (12.5mg), Use: Treatment of Acute migraine headache, \n",
            "Side Effects: Dizziness Dryness in mouth Nausea Sleepiness Headache Paresthesia tingling or pricking sensation Vomiting,\n",
            " Similarity: 0.9389\n",
            "\n",
            "Medicine: Suminat 25 Tablet,\n",
            "Composition: Sumatriptan (25mg), Use:  Acute migraine headache, \n",
            "Side Effects: Dizziness Weakness Flushing sense of warmth in the face ears neck and trunk Drowsiness Peripheral neuropathy tingling and numbness of feet and hand,\n",
            " Similarity: 0.9386\n",
            "\n",
            "Medicine: Sotalar 40 Tablet,\n",
            "Composition: Sotalol (40mg), Use:  Arrhythmia, \n",
            "Side Effects: Fatigue Slow heart rate Breathlessness Arrhythmia irregular heartbeats Weakness Dizziness,\n",
            " Similarity: 0.9278\n",
            "\n",
            "Medicine: Rizora ODS 5 Disintegrating Strip,\n",
            "Composition: Rizatriptan (5mg), Use:  Acute migraine headache, \n",
            "Side Effects: Dizziness Dryness in mouth Heaviness Jaw pain Nausea Neck pain Sleepiness Throat pain Weakness,\n",
            " Similarity: 0.9271\n",
            "\n",
            "\n",
            "==================================================\n",
            "\n",
            "-------------------------------------------------------------------------\n",
            "Combined Text: diabetes mellitus\n",
            "(1, 1000)\n",
            "NER Results: [{'entity_group': 'DISEASE_DISORDER', 'score': 0.25418797, 'word': 'diabetes mellitus', 'start': 45, 'end': 63}]\n",
            "NER Query for Embedding: diabetes mellitus\n",
            "\n",
            "tfidf\n",
            "\n",
            "Top matching medications with side effects:\n",
            "Medicine: Januvia 50mg Tablet,\n",
            "Composition: Sitagliptin (50mg), Use: Treatment of Type 2 diabetes mellitus, \n",
            "Side Effects: Nasopharyngitis inflammation of the throat and nasal passages Headache Hypoglycemia low blood glucose level,\n",
            " Similarity: 1.0000\n",
            "\n",
            "Medicine: Onglyza 5mg Tablet,\n",
            "Composition: Saxagliptin (5mg), Use: Treatment of Type 2 diabetes mellitus, \n",
            "Side Effects: Hypoglycaemia low blood sugar level in combination with insulin or sulphonylurea Upper respiratory tract infection Urinary tract infection Headache Peripheral edema,\n",
            " Similarity: 1.0000\n",
            "\n",
            "Medicine: Aloja 12.5 Tablet,\n",
            "Composition: Alogliptin (12.5mg), Use: Treatment of Type 2 diabetes mellitus, \n",
            "Side Effects: Headache Hypoglycaemia low blood sugar level in combination with insulin or sulphonylurea Nasopharyngitis inflammation of the throat and nasal passages Upper respiratory tract infection Abdominal pain Gastro esophageal reflux disease Diarrhea Itching Rash,\n",
            " Similarity: 1.0000\n",
            "\n",
            "Medicine: Trulicity 0.75mg Pre-Filled Pen,\n",
            "Composition: Dulaglutide (0.75mg/0.5ml), Use: Treatment of Type 2 diabetes mellitus, \n",
            "Side Effects: Nausea Diarrhea Vomiting Abdominal pain Loss of appetite,\n",
            " Similarity: 1.0000\n",
            "\n",
            "Medicine: Oxra 5mg Tablet,\n",
            "Composition: Dapagliflozin (5mg), Use: Treatment of Type 2 diabetes mellitus, \n",
            "Side Effects: Polyuria Nausea Vomiting Dyslipidemia Genital fungal infection Nasopharyngitis inflammation of the throat and nasal passages Urinary tract infection,\n",
            " Similarity: 1.0000\n",
            "\n",
            "\n",
            "==================================================\n",
            "\n",
            "Combined Text: diabetes mellitus\n",
            "NER Results: [{'entity_group': 'DISEASE_DISORDER', 'score': 0.25418797, 'word': 'diabetes mellitus', 'start': 45, 'end': 63}]\n",
            "NER Query for Embedding: diabetes mellitus\n",
            "\n",
            "bert\n",
            "\n",
            "Top matching medications with side effects:\n",
            "Medicine: Reclide Tablet,\n",
            "Composition: Gliclazide (80mg), Use: Treatment of Type 2 diabetes mellitus, \n",
            "Side Effects: Hypoglycemia low blood glucose level Weight gain Flatulence Diarrhea Headache Nausea Dizziness,\n",
            " Similarity: 0.9370\n",
            "\n",
            "Medicine: Glinate 120 Tablet,\n",
            "Composition: Nateglinide (120mg), Use: Treatment of Type 2 diabetes mellitus, \n",
            "Side Effects: Upper respiratory tract infection Back pain Diarrhea Flu like symptoms Dizziness Joint pain,\n",
            " Similarity: 0.9338\n",
            "\n",
            "Medicine: Levemir 100IU/ml Flexpen,\n",
            "Composition: Insulin detemir (100IU), Use: Treatment of Diabetes, \n",
            "Side Effects: Hypoglycemia low blood glucose level Injection site allergic reaction,\n",
            " Similarity: 0.9325\n",
            "\n",
            "Medicine: Glucobay 50 Tablet,\n",
            "Composition: Acarbose (50mg), Use: Treatment of Type 2 diabetes mellitus, \n",
            "Side Effects: Gastrointestinal discomfort Flatulence,\n",
            " Similarity: 0.9312\n",
            "\n",
            "Medicine: Gluconorm SR 500mg Tablet,\n",
            "Composition: Metformin (500mg), Use: Treatment of Type 2 diabetes mellitus, \n",
            "Side Effects: Diarrhea Nausea Vomiting Flatulence,\n",
            " Similarity: 0.9290\n",
            "\n",
            "\n",
            "==================================================\n",
            "\n",
            "-------------------------------------------------------------------------\n"
          ]
        }
      ]
    },
    {
      "cell_type": "markdown",
      "source": [
        "## 3. Evaluation of Clinical-BERT & TFIDF results\n"
      ],
      "metadata": {
        "id": "mDBR-HoduyNt"
      }
    },
    {
      "cell_type": "markdown",
      "source": [
        "Get Query Dictonary with evaluation:\n",
        "rating_precision -> bool relevant or not\n",
        "rating_relevance -> output top 5 (1,2,3,4,5) gets a relevant rating like following:\n",
        "5: Highly relevant (most relevant item to the query).\n",
        "4: Very relevant (still strongly related to the query).\n",
        "3: Moderately relevant (somewhat useful for the query).\n",
        "2: Slightly relevant (not very useful but loosely related).\n",
        "1: Not relevant (unlikely to satisfy the query)."
      ],
      "metadata": {
        "id": "9QlkxZzOaR35"
      }
    },
    {
      "cell_type": "code",
      "source": [
        "import pandas as pd\n",
        "\n",
        "queries = [\n",
        "    query1,\n",
        "    query2,\n",
        "    query3,\n",
        "    query4,\n",
        "    query5\n",
        "]\n",
        "# TODO: DONE make correct evaluation\n",
        "ratings = {\n",
        "    \"q1\": {\n",
        "        \"precision_tfidf\": (0, 0, 0, 1, 1),\n",
        "        \"precision_bert\": (1, 1, 1, 0, 1),\n",
        "        \"relevance_tfidf\": (2, 1, 2, 5, 5),\n",
        "        \"relevance_bert\": (5, 5, 5, 1, 5),\n",
        "    },\n",
        "    \"q2\": {\n",
        "        \"precision_tfidf\": (0, 0, 0, 0, 0),\n",
        "        \"precision_bert\": (1, 1, 1, 1, 1),\n",
        "        \"relevance_tfidf\": (1, 1, 1, 1, 1),\n",
        "        \"relevance_bert\": (5, 5, 5, 5, 5),\n",
        "    },\n",
        "    \"q3\": {\n",
        "        \"precision_tfidf\": (0, 1, 0, 1, 0),\n",
        "        \"precision_bert\": (0, 0, 0, 1, 0),\n",
        "        \"relevance_tfidf\": (1, 5, 1, 3, 2),\n",
        "        \"relevance_bert\": (2, 0, 2, 2, 1),\n",
        "    },\n",
        "    \"q4\": {\n",
        "        \"precision_tfidf\": (0, 0, 0, 0, 1),\n",
        "        \"precision_bert\": (1, 1, 1, 0, 1),\n",
        "        \"relevance_tfidf\": (1, 1, 1, 2, 3),\n",
        "        \"relevance_bert\": (5, 5, 5, 1, 5),\n",
        "    },\n",
        "    \"q5\": {\n",
        "        \"precision_tfidf\": (1, 1, 1, 1, 1),\n",
        "        \"precision_bert\": (1, 1, 1, 1, 1),\n",
        "        \"relevance_tfidf\": (5, 5, 5, 5, 5),\n",
        "        \"relevance_bert\": (5, 5, 5, 5, 5),\n",
        "    }\n",
        "}\n",
        "\n",
        "sum_relevant_items = [14, 50, 20, 6, 40]\n",
        "\n",
        "# Create the big table\n",
        "evaluation_data = []\n",
        "for i, query in enumerate(queries, start=1):\n",
        "    key = f\"q{i}\"\n",
        "    evaluation_data.append({\n",
        "        \"query\": query,\n",
        "        \"precision_tfidf\": ratings[key][\"precision_tfidf\"],\n",
        "        \"precision_bert\": ratings[key][\"precision_bert\"],\n",
        "        \"relevance_tfidf\": ratings[key][\"relevance_tfidf\"],\n",
        "        \"relevance_bert\": ratings[key][\"relevance_bert\"],\n",
        "        \"sum_relevant_items\": sum_relevant_items[i - 1],\n",
        "    })\n",
        "\n",
        "df = pd.DataFrame(evaluation_data)"
      ],
      "metadata": {
        "id": "SJ9rDB5y531W"
      },
      "execution_count": 73,
      "outputs": []
    },
    {
      "cell_type": "markdown",
      "source": [
        "###Precision@K and Recall@K"
      ],
      "metadata": {
        "id": "Iz42HU5MTJCf"
      }
    },
    {
      "cell_type": "markdown",
      "source": [
        "$\n",
        "\\text{Precision@K} = \\frac{\\text{Number of relevant items in top-K}}{K}\n",
        "$\n"
      ],
      "metadata": {
        "id": "UL3fkiH8URMc"
      }
    },
    {
      "cell_type": "markdown",
      "source": [
        "$\\text{Recall@K} = \\frac{\\text{Number of relevant items in top-K}}{\\text{Total number of relevant items}}$"
      ],
      "metadata": {
        "id": "0M6QIP6rWE5r"
      }
    },
    {
      "cell_type": "markdown",
      "source": [
        "$\\text{IDCG@K} = \\sum_{i=1}^{K} \\frac{\\text{ideal relevance}_i}{\\log_2(i + 1)}$\n",
        "\n",
        "$\\text{NDCG@K} = \\frac{\\text{DCG@K}}{\\text{IDCG@K}}$"
      ],
      "metadata": {
        "id": "59HRQYeYWQPO"
      }
    },
    {
      "cell_type": "code",
      "source": [
        "def calculate_precision(ratings):\n",
        "    return sum(ratings) / len(ratings) if len(ratings) > 0 else 0\n",
        "\n",
        "def calculate_recall(ratings, num_relevant_items):\n",
        "    return sum(ratings) / num_relevant_items if num_relevant_items > 0 else 0\n",
        "\n",
        "def calculate_dcg(relevance_scores):\n",
        "    relevance_scores = np.array(relevance_scores)\n",
        "    return np.sum((2 ** relevance_scores - 1) / np.log2(np.arange(1, len(relevance_scores) + 1) + 1))\n",
        "\n",
        "def calculate_ndcg(relevance_scores, ideal_relevance_scores):\n",
        "    dcg = calculate_dcg(relevance_scores)\n",
        "    idcg = calculate_dcg(sorted(ideal_relevance_scores, reverse=True))\n",
        "    return dcg / idcg if idcg > 0 else 0\n",
        "\n",
        "def compute_metrics(df):\n",
        "    metrics = []\n",
        "    for _, row in df.iterrows():\n",
        "        for embedding_type in [\"tfidf\", \"bert\"]:\n",
        "            # Precision\n",
        "            precision = calculate_precision(row[f\"precision_{embedding_type}\"])\n",
        "            # Recall\n",
        "            recall = calculate_recall(row[f\"precision_{embedding_type}\"], row[\"sum_relevant_items\"])\n",
        "            # NDCG\n",
        "            relevance_scores = row[f\"relevance_{embedding_type}\"]\n",
        "            ideal_relevance_scores = sorted(relevance_scores, reverse=True)\n",
        "            ndcg = calculate_ndcg(relevance_scores, ideal_relevance_scores)\n",
        "\n",
        "            # Append metrics\n",
        "            metrics.append({\n",
        "                \"query\": row[\"query\"],\n",
        "                \"embedding_type\": embedding_type.upper(),\n",
        "                \"precision\": precision,\n",
        "                \"recall\": recall,\n",
        "                \"ndcg\": ndcg\n",
        "            })\n",
        "    return pd.DataFrame(metrics)\n",
        "\n",
        "# Compute metrics\n",
        "metrics_df = compute_metrics(df)\n",
        "\n",
        "# Save metrics to CSV\n",
        "metrics_df.to_csv(\"precision_recall_ndcg_metrics.csv\", index=False)\n",
        "\n",
        "print(metrics_df)"
      ],
      "metadata": {
        "colab": {
          "base_uri": "https://localhost:8080/"
        },
        "id": "pMugCfup8Ln6",
        "outputId": "469d5701-e1bb-4df4-d1d1-11eaa7ee9a15"
      },
      "execution_count": 74,
      "outputs": [
        {
          "output_type": "stream",
          "name": "stdout",
          "text": [
            "                                               query embedding_type  \\\n",
            "0  The patient is allergic to Mefenamin Acid anot...          TFIDF   \n",
            "1  The patient is allergic to Mefenamin Acid anot...           BERT   \n",
            "2                                       Antibiotics.          TFIDF   \n",
            "3                                       Antibiotics.           BERT   \n",
            "4  What are the available medications for a skin ...          TFIDF   \n",
            "5  What are the available medications for a skin ...           BERT   \n",
            "6  I have acute migraine need a medication with m...          TFIDF   \n",
            "7  I have acute migraine need a medication with m...           BERT   \n",
            "8  What medications are recommended for managing ...          TFIDF   \n",
            "9  What medications are recommended for managing ...           BERT   \n",
            "\n",
            "   precision    recall      ndcg  \n",
            "0        0.4  0.142857  0.567094  \n",
            "1        0.8  0.285714  0.983524  \n",
            "2        0.0  0.000000  1.000000  \n",
            "3        1.0  0.100000  1.000000  \n",
            "4        0.4  0.100000  0.668736  \n",
            "5        0.2  0.050000  0.905534  \n",
            "6        0.2  0.166667  0.600464  \n",
            "7        0.8  0.666667  0.983524  \n",
            "8        1.0  0.125000  1.000000  \n",
            "9        1.0  0.125000  1.000000  \n"
          ]
        }
      ]
    },
    {
      "cell_type": "markdown",
      "source": [
        "###Compare Models\n",
        "Precision and Recall Bar Chart"
      ],
      "metadata": {
        "id": "XdRRkph2XRAn"
      }
    },
    {
      "cell_type": "code",
      "source": [
        "import matplotlib.pyplot as plt\n",
        "import numpy as np\n",
        "\n",
        "def plot_precision_recall(metrics_df):\n",
        "\n",
        "    queries = metrics_df['query_label'].unique()\n",
        "    x = np.arange(len(queries))  # Label locations\n",
        "\n",
        "    # Extract precision, recall for TF-IDF and BERT\n",
        "    precision_tfidf = metrics_df[metrics_df['embedding_type'] == 'TFIDF']['precision'].values\n",
        "    recall_tfidf = metrics_df[metrics_df['embedding_type'] == 'TFIDF']['recall'].values\n",
        "    precision_bert = metrics_df[metrics_df['embedding_type'] == 'BERT']['precision'].values\n",
        "    recall_bert = metrics_df[metrics_df['embedding_type'] == 'BERT']['recall'].values\n",
        "\n",
        "    # Plot Precision and Recall\n",
        "    width = 0.2  # Bar width\n",
        "\n",
        "    fig, ax = plt.subplots(figsize=(10, 6))\n",
        "\n",
        "    ax.bar(x - width, precision_tfidf, width, label='Precision TF-IDF', color='skyblue')\n",
        "    ax.bar(x, precision_bert, width, label='Precision BERT', color='orange')\n",
        "    ax.bar(x + width, recall_tfidf, width, label='Recall TF-IDF', color='lightgreen')\n",
        "    ax.bar(x + 2 * width, recall_bert, width, label='Recall BERT', color='coral')\n",
        "\n",
        "    # Formatting\n",
        "    ax.set_xlabel('Queries')\n",
        "    ax.set_ylabel('Scores')\n",
        "    ax.set_title('Precision and Recall Comparison')\n",
        "    ax.set_xticks(x + width / 2)\n",
        "    ax.set_xticklabels(queries)\n",
        "    ax.legend()\n",
        "    plt.tight_layout()\n",
        "    plt.show()\n",
        "\n",
        "def plot_ndcg(metrics_df):\n",
        "\n",
        "    queries = metrics_df['query_label'].unique()\n",
        "    x = np.arange(len(queries))  # Label locations\n",
        "\n",
        "    ndcg_tfidf = metrics_df[metrics_df['embedding_type'] == 'TFIDF']['ndcg'].values\n",
        "    ndcg_bert = metrics_df[metrics_df['embedding_type'] == 'BERT']['ndcg'].values\n",
        "\n",
        "    # Plot NDCG\n",
        "    width = 0.3  # Bar width\n",
        "\n",
        "    fig, ax = plt.subplots(figsize=(10, 6))\n",
        "    ax.bar(x - width / 2, ndcg_tfidf, width, label='NDCG TF-IDF', color='blue')\n",
        "    ax.bar(x + width / 2, ndcg_bert, width, label='NDCG BERT', color='orange')\n",
        "\n",
        "    # Formatting\n",
        "    ax.set_xlabel('Queries')\n",
        "    ax.set_ylabel('NDCG Scores')\n",
        "    ax.set_title('NDCG Comparison')\n",
        "    ax.set_xticks(x)\n",
        "    ax.set_xticklabels(queries)\n",
        "    ax.legend()\n",
        "    plt.tight_layout()\n",
        "    plt.show()\n",
        "\n",
        "metrics_df['query_label'] = ['q1', 'q1', 'q2', 'q2', 'q3', 'q3', 'q4', 'q4', 'q5', 'q5']\n",
        "plot_precision_recall(metrics_df)\n",
        "plot_ndcg(metrics_df)\n",
        "\n"
      ],
      "metadata": {
        "id": "IvdlrRsLXab7",
        "colab": {
          "base_uri": "https://localhost:8080/",
          "height": 1000
        },
        "outputId": "6c6a79fd-89ba-49e4-fd38-218f6d820d63"
      },
      "execution_count": 75,
      "outputs": [
        {
          "output_type": "display_data",
          "data": {
            "text/plain": [
              "<Figure size 1000x600 with 1 Axes>"
            ],
            "image/png": "[encoded data removed]"
          },
          "metadata": {}
        },
        {
          "output_type": "display_data",
          "data": {
            "text/plain": [
              "<Figure size 1000x600 with 1 Axes>"
            ],
            "image/png": "[encoded data removed]"
          },
          "metadata": {}
        }
      ]
    }
  ],
  "metadata": {
    "accelerator": "GPU",
    "colab": {
      "gpuType": "T4",
      "provenance": []
    },
    "kernelspec": {
      "display_name": "Python 3",
      "name": "python3"
    },
    "language_info": {
      "name": "python",
      "version": "3.12.3"
    },
    "widgets": {
      "application/vnd.jupyter.widget-state+json": {
        "7e90c5d9a4fa41dfbf9bde4103fc89f6": {
          "model_module": "@jupyter-widgets/controls",
          "model_name": "VBoxModel",
          "model_module_version": "1.5.0",
          "state": {
            "_dom_classes": [],
            "_model_module": "@jupyter-widgets/controls",
            "_model_module_version": "1.5.0",
            "_model_name": "VBoxModel",
            "_view_count": null,
            "_view_module": "@jupyter-widgets/controls",
            "_view_module_version": "1.5.0",
            "_view_name": "VBoxView",
            "box_style": "",
            "children": [],
            "layout": "IPY_MODEL_08bea945803b42408accfb405d2e89a7"
          }
        },
        "72f07ead941b4a3ab269a127c19b18b0": {
          "model_module": "@jupyter-widgets/controls",
          "model_name": "HTMLModel",
          "model_module_version": "1.5.0",
          "state": {
            "_dom_classes": [],
            "_model_module": "@jupyter-widgets/controls",
            "_model_module_version": "1.5.0",
            "_model_name": "HTMLModel",
            "_view_count": null,
            "_view_module": "@jupyter-widgets/controls",
            "_view_module_version": "1.5.0",
            "_view_name": "HTMLView",
            "description": "",
            "description_tooltip": null,
            "layout": "IPY_MODEL_8d454ad8a3ea422193eaabaaf46a79a4",
            "placeholder": "​",
            "style": "IPY_MODEL_8dcfafefb630408495fd1db8806ee268",
            "value": "<center> <img\nsrc=https://huggingface.co/front/assets/huggingface_logo-noborder.svg\nalt='Hugging Face'> <br> Copy a token from <a\nhref=\"https://huggingface.co/settings/tokens\" target=\"_blank\">your Hugging Face\ntokens page</a> and paste it below. <br> Immediately click login after copying\nyour token or it might be stored in plain text in this notebook file. </center>"
          }
        },
        "6a9a85f82bbb4194918c971ff22243a7": {
          "model_module": "@jupyter-widgets/controls",
          "model_name": "PasswordModel",
          "model_module_version": "1.5.0",
          "state": {
            "_dom_classes": [],
            "_model_module": "@jupyter-widgets/controls",
            "_model_module_version": "1.5.0",
            "_model_name": "PasswordModel",
            "_view_count": null,
            "_view_module": "@jupyter-widgets/controls",
            "_view_module_version": "1.5.0",
            "_view_name": "PasswordView",
            "continuous_update": true,
            "description": "Token:",
            "description_tooltip": null,
            "disabled": false,
            "layout": "IPY_MODEL_6f9d627018f446ad893c38477c1fdfa3",
            "placeholder": "​",
            "style": "IPY_MODEL_f08f576ac35f4e8d9120adcb3f7f898c",
            "value": ""
          }
        },
        "58a2546aabb54b299e7e22dc3652dca6": {
          "model_module": "@jupyter-widgets/controls",
          "model_name": "CheckboxModel",
          "model_module_version": "1.5.0",
          "state": {
            "_dom_classes": [],
            "_model_module": "@jupyter-widgets/controls",
            "_model_module_version": "1.5.0",
            "_model_name": "CheckboxModel",
            "_view_count": null,
            "_view_module": "@jupyter-widgets/controls",
            "_view_module_version": "1.5.0",
            "_view_name": "CheckboxView",
            "description": "Add token as git credential?",
            "description_tooltip": null,
            "disabled": false,
            "indent": true,
            "layout": "IPY_MODEL_de7581edd85b4611ae722e6600eecb55",
            "style": "IPY_MODEL_2ca3a680652f401aa7e14a19c28829e0",
            "value": false
          }
        },
        "84e8920be0fa4b5b8288720461d27ce2": {
          "model_module": "@jupyter-widgets/controls",
          "model_name": "ButtonModel",
          "model_module_version": "1.5.0",
          "state": {
            "_dom_classes": [],
            "_model_module": "@jupyter-widgets/controls",
            "_model_module_version": "1.5.0",
            "_model_name": "ButtonModel",
            "_view_count": null,
            "_view_module": "@jupyter-widgets/controls",
            "_view_module_version": "1.5.0",
            "_view_name": "ButtonView",
            "button_style": "",
            "description": "Login",
            "disabled": false,
            "icon": "",
            "layout": "IPY_MODEL_947fdadf476243d1a51197bd5e1b3c46",
            "style": "IPY_MODEL_b7f2d5cea9df47b790ba67c0ee5b2e0f",
            "tooltip": ""
          }
        },
        "e9389f4306024c2cab385db84db11b0c": {
          "model_module": "@jupyter-widgets/controls",
          "model_name": "HTMLModel",
          "model_module_version": "1.5.0",
          "state": {
            "_dom_classes": [],
            "_model_module": "@jupyter-widgets/controls",
            "_model_module_version": "1.5.0",
            "_model_name": "HTMLModel",
            "_view_count": null,
            "_view_module": "@jupyter-widgets/controls",
            "_view_module_version": "1.5.0",
            "_view_name": "HTMLView",
            "description": "",
            "description_tooltip": null,
            "layout": "IPY_MODEL_0b5adbe6509b45679d97887fb1983bed",
            "placeholder": "​",
            "style": "IPY_MODEL_c027994dfb134087a34eab2e4cbc8623",
            "value": "\n<b>Pro Tip:</b> If you don't already have one, you can create a dedicated\n'notebooks' token with 'write' access, that you can then easily reuse for all\nnotebooks. </center>"
          }
        },
        "08bea945803b42408accfb405d2e89a7": {
          "model_module": "@jupyter-widgets/base",
          "model_name": "LayoutModel",
          "model_module_version": "1.2.0",
          "state": {
            "_model_module": "@jupyter-widgets/base",
            "_model_module_version": "1.2.0",
            "_model_name": "LayoutModel",
            "_view_count": null,
            "_view_module": "@jupyter-widgets/base",
            "_view_module_version": "1.2.0",
            "_view_name": "LayoutView",
            "align_content": null,
            "align_items": "center",
            "align_self": null,
            "border": null,
            "bottom": null,
            "display": "flex",
            "flex": null,
            "flex_flow": "column",
            "grid_area": null,
            "grid_auto_columns": null,
            "grid_auto_flow": null,
            "grid_auto_rows": null,
            "grid_column": null,
            "grid_gap": null,
            "grid_row": null,
            "grid_template_areas": null,
            "grid_template_columns": null,
            "grid_template_rows": null,
            "height": null,
            "justify_content": null,
            "justify_items": null,
            "left": null,
            "margin": null,
            "max_height": null,
            "max_width": null,
            "min_height": null,
            "min_width": null,
            "object_fit": null,
            "object_position": null,
            "order": null,
            "overflow": null,
            "overflow_x": null,
            "overflow_y": null,
            "padding": null,
            "right": null,
            "top": null,
            "visibility": null,
            "width": "50%"
          }
        },
        "8d454ad8a3ea422193eaabaaf46a79a4": {
          "model_module": "@jupyter-widgets/base",
          "model_name": "LayoutModel",
          "model_module_version": "1.2.0",
          "state": {
            "_model_module": "@jupyter-widgets/base",
            "_model_module_version": "1.2.0",
            "_model_name": "LayoutModel",
            "_view_count": null,
            "_view_module": "@jupyter-widgets/base",
            "_view_module_version": "1.2.0",
            "_view_name": "LayoutView",
            "align_content": null,
            "align_items": null,
            "align_self": null,
            "border": null,
            "bottom": null,
            "display": null,
            "flex": null,
            "flex_flow": null,
            "grid_area": null,
            "grid_auto_columns": null,
            "grid_auto_flow": null,
            "grid_auto_rows": null,
            "grid_column": null,
            "grid_gap": null,
            "grid_row": null,
            "grid_template_areas": null,
            "grid_template_columns": null,
            "grid_template_rows": null,
            "height": null,
            "justify_content": null,
            "justify_items": null,
            "left": null,
            "margin": null,
            "max_height": null,
            "max_width": null,
            "min_height": null,
            "min_width": null,
            "object_fit": null,
            "object_position": null,
            "order": null,
            "overflow": null,
            "overflow_x": null,
            "overflow_y": null,
            "padding": null,
            "right": null,
            "top": null,
            "visibility": null,
            "width": null
          }
        },
        "8dcfafefb630408495fd1db8806ee268": {
          "model_module": "@jupyter-widgets/controls",
          "model_name": "DescriptionStyleModel",
          "model_module_version": "1.5.0",
          "state": {
            "_model_module": "@jupyter-widgets/controls",
            "_model_module_version": "1.5.0",
            "_model_name": "DescriptionStyleModel",
            "_view_count": null,
            "_view_module": "@jupyter-widgets/base",
            "_view_module_version": "1.2.0",
            "_view_name": "StyleView",
            "description_width": ""
          }
        },
        "6f9d627018f446ad893c38477c1fdfa3": {
          "model_module": "@jupyter-widgets/base",
          "model_name": "LayoutModel",
          "model_module_version": "1.2.0",
          "state": {
            "_model_module": "@jupyter-widgets/base",
            "_model_module_version": "1.2.0",
            "_model_name": "LayoutModel",
            "_view_count": null,
            "_view_module": "@jupyter-widgets/base",
            "_view_module_version": "1.2.0",
            "_view_name": "LayoutView",
            "align_content": null,
            "align_items": null,
            "align_self": null,
            "border": null,
            "bottom": null,
            "display": null,
            "flex": null,
            "flex_flow": null,
            "grid_area": null,
            "grid_auto_columns": null,
            "grid_auto_flow": null,
            "grid_auto_rows": null,
            "grid_column": null,
            "grid_gap": null,
            "grid_row": null,
            "grid_template_areas": null,
            "grid_template_columns": null,
            "grid_template_rows": null,
            "height": null,
            "justify_content": null,
            "justify_items": null,
            "left": null,
            "margin": null,
            "max_height": null,
            "max_width": null,
            "min_height": null,
            "min_width": null,
            "object_fit": null,
            "object_position": null,
            "order": null,
            "overflow": null,
            "overflow_x": null,
            "overflow_y": null,
            "padding": null,
            "right": null,
            "top": null,
            "visibility": null,
            "width": null
          }
        },
        "f08f576ac35f4e8d9120adcb3f7f898c": {
          "model_module": "@jupyter-widgets/controls",
          "model_name": "DescriptionStyleModel",
          "model_module_version": "1.5.0",
          "state": {
            "_model_module": "@jupyter-widgets/controls",
            "_model_module_version": "1.5.0",
            "_model_name": "DescriptionStyleModel",
            "_view_count": null,
            "_view_module": "@jupyter-widgets/base",
            "_view_module_version": "1.2.0",
            "_view_name": "StyleView",
            "description_width": ""
          }
        },
        "de7581edd85b4611ae722e6600eecb55": {
          "model_module": "@jupyter-widgets/base",
          "model_name": "LayoutModel",
          "model_module_version": "1.2.0",
          "state": {
            "_model_module": "@jupyter-widgets/base",
            "_model_module_version": "1.2.0",
            "_model_name": "LayoutModel",
            "_view_count": null,
            "_view_module": "@jupyter-widgets/base",
            "_view_module_version": "1.2.0",
            "_view_name": "LayoutView",
            "align_content": null,
            "align_items": null,
            "align_self": null,
            "border": null,
            "bottom": null,
            "display": null,
            "flex": null,
            "flex_flow": null,
            "grid_area": null,
            "grid_auto_columns": null,
            "grid_auto_flow": null,
            "grid_auto_rows": null,
            "grid_column": null,
            "grid_gap": null,
            "grid_row": null,
            "grid_template_areas": null,
            "grid_template_columns": null,
            "grid_template_rows": null,
            "height": null,
            "justify_content": null,
            "justify_items": null,
            "left": null,
            "margin": null,
            "max_height": null,
            "max_width": null,
            "min_height": null,
            "min_width": null,
            "object_fit": null,
            "object_position": null,
            "order": null,
            "overflow": null,
            "overflow_x": null,
            "overflow_y": null,
            "padding": null,
            "right": null,
            "top": null,
            "visibility": null,
            "width": null
          }
        },
        "2ca3a680652f401aa7e14a19c28829e0": {
          "model_module": "@jupyter-widgets/controls",
          "model_name": "DescriptionStyleModel",
          "model_module_version": "1.5.0",
          "state": {
            "_model_module": "@jupyter-widgets/controls",
            "_model_module_version": "1.5.0",
            "_model_name": "DescriptionStyleModel",
            "_view_count": null,
            "_view_module": "@jupyter-widgets/base",
            "_view_module_version": "1.2.0",
            "_view_name": "StyleView",
            "description_width": ""
          }
        },
        "947fdadf476243d1a51197bd5e1b3c46": {
          "model_module": "@jupyter-widgets/base",
          "model_name": "LayoutModel",
          "model_module_version": "1.2.0",
          "state": {
            "_model_module": "@jupyter-widgets/base",
            "_model_module_version": "1.2.0",
            "_model_name": "LayoutModel",
            "_view_count": null,
            "_view_module": "@jupyter-widgets/base",
            "_view_module_version": "1.2.0",
            "_view_name": "LayoutView",
            "align_content": null,
            "align_items": null,
            "align_self": null,
            "border": null,
            "bottom": null,
            "display": null,
            "flex": null,
            "flex_flow": null,
            "grid_area": null,
            "grid_auto_columns": null,
            "grid_auto_flow": null,
            "grid_auto_rows": null,
            "grid_column": null,
            "grid_gap": null,
            "grid_row": null,
            "grid_template_areas": null,
            "grid_template_columns": null,
            "grid_template_rows": null,
            "height": null,
            "justify_content": null,
            "justify_items": null,
            "left": null,
            "margin": null,
            "max_height": null,
            "max_width": null,
            "min_height": null,
            "min_width": null,
            "object_fit": null,
            "object_position": null,
            "order": null,
            "overflow": null,
            "overflow_x": null,
            "overflow_y": null,
            "padding": null,
            "right": null,
            "top": null,
            "visibility": null,
            "width": null
          }
        },
        "b7f2d5cea9df47b790ba67c0ee5b2e0f": {
          "model_module": "@jupyter-widgets/controls",
          "model_name": "ButtonStyleModel",
          "model_module_version": "1.5.0",
          "state": {
            "_model_module": "@jupyter-widgets/controls",
            "_model_module_version": "1.5.0",
            "_model_name": "ButtonStyleModel",
            "_view_count": null,
            "_view_module": "@jupyter-widgets/base",
            "_view_module_version": "1.2.0",
            "_view_name": "StyleView",
            "button_color": null,
            "font_weight": ""
          }
        },
        "0b5adbe6509b45679d97887fb1983bed": {
          "model_module": "@jupyter-widgets/base",
          "model_name": "LayoutModel",
          "model_module_version": "1.2.0",
          "state": {
            "_model_module": "@jupyter-widgets/base",
            "_model_module_version": "1.2.0",
            "_model_name": "LayoutModel",
            "_view_count": null,
            "_view_module": "@jupyter-widgets/base",
            "_view_module_version": "1.2.0",
            "_view_name": "LayoutView",
            "align_content": null,
            "align_items": null,
            "align_self": null,
            "border": null,
            "bottom": null,
            "display": null,
            "flex": null,
            "flex_flow": null,
            "grid_area": null,
            "grid_auto_columns": null,
            "grid_auto_flow": null,
            "grid_auto_rows": null,
            "grid_column": null,
            "grid_gap": null,
            "grid_row": null,
            "grid_template_areas": null,
            "grid_template_columns": null,
            "grid_template_rows": null,
            "height": null,
            "justify_content": null,
            "justify_items": null,
            "left": null,
            "margin": null,
            "max_height": null,
            "max_width": null,
            "min_height": null,
            "min_width": null,
            "object_fit": null,
            "object_position": null,
            "order": null,
            "overflow": null,
            "overflow_x": null,
            "overflow_y": null,
            "padding": null,
            "right": null,
            "top": null,
            "visibility": null,
            "width": null
          }
        },
        "c027994dfb134087a34eab2e4cbc8623": {
          "model_module": "@jupyter-widgets/controls",
          "model_name": "DescriptionStyleModel",
          "model_module_version": "1.5.0",
          "state": {
            "_model_module": "@jupyter-widgets/controls",
            "_model_module_version": "1.5.0",
            "_model_name": "DescriptionStyleModel",
            "_view_count": null,
            "_view_module": "@jupyter-widgets/base",
            "_view_module_version": "1.2.0",
            "_view_name": "StyleView",
            "description_width": ""
          }
        },
        "a7dabdde9583483d8cf0a51be17c586b": {
          "model_module": "@jupyter-widgets/controls",
          "model_name": "LabelModel",
          "model_module_version": "1.5.0",
          "state": {
            "_dom_classes": [],
            "_model_module": "@jupyter-widgets/controls",
            "_model_module_version": "1.5.0",
            "_model_name": "LabelModel",
            "_view_count": null,
            "_view_module": "@jupyter-widgets/controls",
            "_view_module_version": "1.5.0",
            "_view_name": "LabelView",
            "description": "",
            "description_tooltip": null,
            "layout": "IPY_MODEL_71fbc7965b49456d83abf0188ef82fcb",
            "placeholder": "​",
            "style": "IPY_MODEL_06d1bb26a09f42ae88d8db0508318dd3",
            "value": "Connecting..."
          }
        },
        "71fbc7965b49456d83abf0188ef82fcb": {
          "model_module": "@jupyter-widgets/base",
          "model_name": "LayoutModel",
          "model_module_version": "1.2.0",
          "state": {
            "_model_module": "@jupyter-widgets/base",
            "_model_module_version": "1.2.0",
            "_model_name": "LayoutModel",
            "_view_count": null,
            "_view_module": "@jupyter-widgets/base",
            "_view_module_version": "1.2.0",
            "_view_name": "LayoutView",
            "align_content": null,
            "align_items": null,
            "align_self": null,
            "border": null,
            "bottom": null,
            "display": null,
            "flex": null,
            "flex_flow": null,
            "grid_area": null,
            "grid_auto_columns": null,
            "grid_auto_flow": null,
            "grid_auto_rows": null,
            "grid_column": null,
            "grid_gap": null,
            "grid_row": null,
            "grid_template_areas": null,
            "grid_template_columns": null,
            "grid_template_rows": null,
            "height": null,
            "justify_content": null,
            "justify_items": null,
            "left": null,
            "margin": null,
            "max_height": null,
            "max_width": null,
            "min_height": null,
            "min_width": null,
            "object_fit": null,
            "object_position": null,
            "order": null,
            "overflow": null,
            "overflow_x": null,
            "overflow_y": null,
            "padding": null,
            "right": null,
            "top": null,
            "visibility": null,
            "width": null
          }
        },
        "06d1bb26a09f42ae88d8db0508318dd3": {
          "model_module": "@jupyter-widgets/controls",
          "model_name": "DescriptionStyleModel",
          "model_module_version": "1.5.0",
          "state": {
            "_model_module": "@jupyter-widgets/controls",
            "_model_module_version": "1.5.0",
            "_model_name": "DescriptionStyleModel",
            "_view_count": null,
            "_view_module": "@jupyter-widgets/base",
            "_view_module_version": "1.2.0",
            "_view_name": "StyleView",
            "description_width": ""
          }
        }
      }
    }
  },
  "nbformat": 4,
  "nbformat_minor": 0
}